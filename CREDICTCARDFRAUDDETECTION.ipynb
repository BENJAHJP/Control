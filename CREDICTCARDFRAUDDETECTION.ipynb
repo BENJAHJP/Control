{
  "nbformat": 4,
  "nbformat_minor": 0,
  "metadata": {
    "colab": {
      "name": "CREDICTCARDFRAUDDETECTION.ipynb",
      "provenance": [],
      "mount_file_id": "1ieslLmjujUKxsILS__3Wz2aHWgM0z4JX",
      "authorship_tag": "ABX9TyN4II1nXM5G0Q6V6o1Vtkr2",
      "include_colab_link": true
    },
    "kernelspec": {
      "name": "python3",
      "display_name": "Python 3"
    },
    "language_info": {
      "name": "python"
    }
  },
  "cells": [
    {
      "cell_type": "markdown",
      "metadata": {
        "id": "view-in-github",
        "colab_type": "text"
      },
      "source": [
        "<a href=\"https://colab.research.google.com/github/BENJAHJP/Control/blob/master/CREDICTCARDFRAUDDETECTION.ipynb\" target=\"_parent\"><img src=\"https://colab.research.google.com/assets/colab-badge.svg\" alt=\"Open In Colab\"/></a>"
      ]
    },
    {
      "cell_type": "code",
      "metadata": {
        "id": "Y7JukuC82WZw",
        "colab": {
          "base_uri": "https://localhost:8080/"
        },
        "outputId": "255a26ca-3328-41d5-c96c-eefedec77225"
      },
      "source": [
        "import tensorflow as tf\n",
        "from tensorflow import keras\n",
        "from tensorflow.keras import Sequential\n",
        "from tensorflow.keras.layers import Flatten, Dense, Dropout, BatchNormalization\n",
        "from tensorflow.keras.layers import Conv1D, MaxPool1D\n",
        "from tensorflow.keras.optimizers import Adam\n",
        "print(tf.__version__)"
      ],
      "execution_count": null,
      "outputs": [
        {
          "output_type": "stream",
          "text": [
            "2.5.0\n"
          ],
          "name": "stdout"
        }
      ]
    },
    {
      "cell_type": "code",
      "metadata": {
        "id": "RlZ7oOQAGyAz",
        "colab": {
          "base_uri": "https://localhost:8080/"
        },
        "outputId": "9c008975-d995-4ea7-da95-54a34a370237"
      },
      "source": [
        "from google.colab import drive\n",
        "drive.mount('/content/drive')\n",
        "import zipfile"
      ],
      "execution_count": null,
      "outputs": [
        {
          "output_type": "stream",
          "text": [
            "Drive already mounted at /content/drive; to attempt to forcibly remount, call drive.mount(\"/content/drive\", force_remount=True).\n"
          ],
          "name": "stdout"
        }
      ]
    },
    {
      "cell_type": "code",
      "metadata": {
        "colab": {
          "base_uri": "https://localhost:8080/"
        },
        "id": "XmZVMi9JzuCP",
        "outputId": "02bdc0ae-5dc3-4a51-a53b-443f81285cdb"
      },
      "source": [
        "from google.colab import drive\n",
        "drive.mount('/content/drive')"
      ],
      "execution_count": null,
      "outputs": [
        {
          "output_type": "stream",
          "text": [
            "Drive already mounted at /content/drive; to attempt to forcibly remount, call drive.mount(\"/content/drive\", force_remount=True).\n"
          ],
          "name": "stdout"
        }
      ]
    },
    {
      "cell_type": "code",
      "metadata": {
        "id": "rB-5J7fvKNrB"
      },
      "source": [
        "zip_ref = zipfile.ZipFile(\"/content/drive/MyDrive/archive.zip\", 'r')\n",
        "zip_ref.extractall(\"/tmp\")\n",
        "zip_ref.close()"
      ],
      "execution_count": null,
      "outputs": []
    },
    {
      "cell_type": "code",
      "metadata": {
        "id": "SmNSFHFYdgOI"
      },
      "source": [
        "import pandas as pd\n",
        "import numpy as np\n",
        "import matplotlib.pyplot as plt\n",
        "from sklearn.model_selection import train_test_split\n",
        "from sklearn.preprocessing import StandardScaler\n",
        "from google.colab import files"
      ],
      "execution_count": null,
      "outputs": []
    },
    {
      "cell_type": "code",
      "metadata": {
        "id": "difEHy3CfDTz"
      },
      "source": [
        "#files.upload()"
      ],
      "execution_count": null,
      "outputs": []
    },
    {
      "cell_type": "code",
      "metadata": {
        "id": "_1RGSdpUd202",
        "colab": {
          "base_uri": "https://localhost:8080/"
        },
        "outputId": "19c3aad9-fbad-4ef1-b748-a96c5e8a25e9"
      },
      "source": [
        "data = pd.read_csv('/tmp/creditcard.csv')\n",
        "data.head()\n",
        "data.shape"
      ],
      "execution_count": null,
      "outputs": [
        {
          "output_type": "execute_result",
          "data": {
            "text/plain": [
              "(284807, 31)"
            ]
          },
          "metadata": {
            "tags": []
          },
          "execution_count": 91
        }
      ]
    },
    {
      "cell_type": "code",
      "metadata": {
        "id": "aDwxm7izd27K",
        "colab": {
          "base_uri": "https://localhost:8080/"
        },
        "outputId": "584c9d3c-f3da-40c5-9d6e-23ec273ab396"
      },
      "source": [
        "data.shape\n",
        "data.isnull().sum()/data.shape[0]*100"
      ],
      "execution_count": null,
      "outputs": [
        {
          "output_type": "execute_result",
          "data": {
            "text/plain": [
              "Time      0.0\n",
              "V1        0.0\n",
              "V2        0.0\n",
              "V3        0.0\n",
              "V4        0.0\n",
              "V5        0.0\n",
              "V6        0.0\n",
              "V7        0.0\n",
              "V8        0.0\n",
              "V9        0.0\n",
              "V10       0.0\n",
              "V11       0.0\n",
              "V12       0.0\n",
              "V13       0.0\n",
              "V14       0.0\n",
              "V15       0.0\n",
              "V16       0.0\n",
              "V17       0.0\n",
              "V18       0.0\n",
              "V19       0.0\n",
              "V20       0.0\n",
              "V21       0.0\n",
              "V22       0.0\n",
              "V23       0.0\n",
              "V24       0.0\n",
              "V25       0.0\n",
              "V26       0.0\n",
              "V27       0.0\n",
              "V28       0.0\n",
              "Amount    0.0\n",
              "Class     0.0\n",
              "dtype: float64"
            ]
          },
          "metadata": {
            "tags": []
          },
          "execution_count": 92
        }
      ]
    },
    {
      "cell_type": "code",
      "metadata": {
        "colab": {
          "base_uri": "https://localhost:8080/"
        },
        "id": "JvxEx3TS3Bg3",
        "outputId": "de767351-3114-441c-b780-da26cb3af6d7"
      },
      "source": [
        "data.info()"
      ],
      "execution_count": null,
      "outputs": [
        {
          "output_type": "stream",
          "text": [
            "<class 'pandas.core.frame.DataFrame'>\n",
            "RangeIndex: 284807 entries, 0 to 284806\n",
            "Data columns (total 31 columns):\n",
            " #   Column  Non-Null Count   Dtype  \n",
            "---  ------  --------------   -----  \n",
            " 0   Time    284807 non-null  float64\n",
            " 1   V1      284807 non-null  float64\n",
            " 2   V2      284807 non-null  float64\n",
            " 3   V3      284807 non-null  float64\n",
            " 4   V4      284807 non-null  float64\n",
            " 5   V5      284807 non-null  float64\n",
            " 6   V6      284807 non-null  float64\n",
            " 7   V7      284807 non-null  float64\n",
            " 8   V8      284807 non-null  float64\n",
            " 9   V9      284807 non-null  float64\n",
            " 10  V10     284807 non-null  float64\n",
            " 11  V11     284807 non-null  float64\n",
            " 12  V12     284807 non-null  float64\n",
            " 13  V13     284807 non-null  float64\n",
            " 14  V14     284807 non-null  float64\n",
            " 15  V15     284807 non-null  float64\n",
            " 16  V16     284807 non-null  float64\n",
            " 17  V17     284807 non-null  float64\n",
            " 18  V18     284807 non-null  float64\n",
            " 19  V19     284807 non-null  float64\n",
            " 20  V20     284807 non-null  float64\n",
            " 21  V21     284807 non-null  float64\n",
            " 22  V22     284807 non-null  float64\n",
            " 23  V23     284807 non-null  float64\n",
            " 24  V24     284807 non-null  float64\n",
            " 25  V25     284807 non-null  float64\n",
            " 26  V26     284807 non-null  float64\n",
            " 27  V27     284807 non-null  float64\n",
            " 28  V28     284807 non-null  float64\n",
            " 29  Amount  284807 non-null  float64\n",
            " 30  Class   284807 non-null  int64  \n",
            "dtypes: float64(30), int64(1)\n",
            "memory usage: 67.4 MB\n"
          ],
          "name": "stdout"
        }
      ]
    },
    {
      "cell_type": "code",
      "metadata": {
        "colab": {
          "base_uri": "https://localhost:8080/"
        },
        "id": "ZYCw36Rh3HUP",
        "outputId": "32e632f6-d349-45b9-8c58-0fc8f66b38d1"
      },
      "source": [
        "data['Class'].value_counts()"
      ],
      "execution_count": null,
      "outputs": [
        {
          "output_type": "execute_result",
          "data": {
            "text/plain": [
              "0    284315\n",
              "1       492\n",
              "Name: Class, dtype: int64"
            ]
          },
          "metadata": {
            "tags": []
          },
          "execution_count": 94
        }
      ]
    },
    {
      "cell_type": "code",
      "metadata": {
        "colab": {
          "base_uri": "https://localhost:8080/"
        },
        "id": "6P8ibA1z3KNz",
        "outputId": "4c28afb0-c7ca-4559-888c-38f7e5182857"
      },
      "source": [
        "non_fraud = data[data['Class']==0]\n",
        "fraud = data[data['Class']==1]\n",
        "non_fraud.shape, fraud.shape"
      ],
      "execution_count": null,
      "outputs": [
        {
          "output_type": "execute_result",
          "data": {
            "text/plain": [
              "((284315, 31), (492, 31))"
            ]
          },
          "metadata": {
            "tags": []
          },
          "execution_count": 95
        }
      ]
    },
    {
      "cell_type": "code",
      "metadata": {
        "colab": {
          "base_uri": "https://localhost:8080/"
        },
        "id": "wDvu3j7p3M8x",
        "outputId": "4717746e-bf73-4902-948e-4b51c0132a73"
      },
      "source": [
        "non_fraud = non_fraud.sample(fraud.shape[0])\n",
        "non_fraud.shape"
      ],
      "execution_count": null,
      "outputs": [
        {
          "output_type": "execute_result",
          "data": {
            "text/plain": [
              "(492, 31)"
            ]
          },
          "metadata": {
            "tags": []
          },
          "execution_count": 96
        }
      ]
    },
    {
      "cell_type": "code",
      "metadata": {
        "colab": {
          "base_uri": "https://localhost:8080/",
          "height": 226
        },
        "id": "glx1KJNZ3P81",
        "outputId": "ef16b2a2-5c7c-4141-cefd-2ea5f77e9f32"
      },
      "source": [
        "data = fraud.append(non_fraud, ignore_index=True)\n",
        "data.head()"
      ],
      "execution_count": null,
      "outputs": [
        {
          "output_type": "execute_result",
          "data": {
            "text/html": [
              "<div>\n",
              "<style scoped>\n",
              "    .dataframe tbody tr th:only-of-type {\n",
              "        vertical-align: middle;\n",
              "    }\n",
              "\n",
              "    .dataframe tbody tr th {\n",
              "        vertical-align: top;\n",
              "    }\n",
              "\n",
              "    .dataframe thead th {\n",
              "        text-align: right;\n",
              "    }\n",
              "</style>\n",
              "<table border=\"1\" class=\"dataframe\">\n",
              "  <thead>\n",
              "    <tr style=\"text-align: right;\">\n",
              "      <th></th>\n",
              "      <th>Time</th>\n",
              "      <th>V1</th>\n",
              "      <th>V2</th>\n",
              "      <th>V3</th>\n",
              "      <th>V4</th>\n",
              "      <th>V5</th>\n",
              "      <th>V6</th>\n",
              "      <th>V7</th>\n",
              "      <th>V8</th>\n",
              "      <th>V9</th>\n",
              "      <th>V10</th>\n",
              "      <th>V11</th>\n",
              "      <th>V12</th>\n",
              "      <th>V13</th>\n",
              "      <th>V14</th>\n",
              "      <th>V15</th>\n",
              "      <th>V16</th>\n",
              "      <th>V17</th>\n",
              "      <th>V18</th>\n",
              "      <th>V19</th>\n",
              "      <th>V20</th>\n",
              "      <th>V21</th>\n",
              "      <th>V22</th>\n",
              "      <th>V23</th>\n",
              "      <th>V24</th>\n",
              "      <th>V25</th>\n",
              "      <th>V26</th>\n",
              "      <th>V27</th>\n",
              "      <th>V28</th>\n",
              "      <th>Amount</th>\n",
              "      <th>Class</th>\n",
              "    </tr>\n",
              "  </thead>\n",
              "  <tbody>\n",
              "    <tr>\n",
              "      <th>0</th>\n",
              "      <td>406.0</td>\n",
              "      <td>-2.312227</td>\n",
              "      <td>1.951992</td>\n",
              "      <td>-1.609851</td>\n",
              "      <td>3.997906</td>\n",
              "      <td>-0.522188</td>\n",
              "      <td>-1.426545</td>\n",
              "      <td>-2.537387</td>\n",
              "      <td>1.391657</td>\n",
              "      <td>-2.770089</td>\n",
              "      <td>-2.772272</td>\n",
              "      <td>3.202033</td>\n",
              "      <td>-2.899907</td>\n",
              "      <td>-0.595222</td>\n",
              "      <td>-4.289254</td>\n",
              "      <td>0.389724</td>\n",
              "      <td>-1.140747</td>\n",
              "      <td>-2.830056</td>\n",
              "      <td>-0.016822</td>\n",
              "      <td>0.416956</td>\n",
              "      <td>0.126911</td>\n",
              "      <td>0.517232</td>\n",
              "      <td>-0.035049</td>\n",
              "      <td>-0.465211</td>\n",
              "      <td>0.320198</td>\n",
              "      <td>0.044519</td>\n",
              "      <td>0.177840</td>\n",
              "      <td>0.261145</td>\n",
              "      <td>-0.143276</td>\n",
              "      <td>0.00</td>\n",
              "      <td>1</td>\n",
              "    </tr>\n",
              "    <tr>\n",
              "      <th>1</th>\n",
              "      <td>472.0</td>\n",
              "      <td>-3.043541</td>\n",
              "      <td>-3.157307</td>\n",
              "      <td>1.088463</td>\n",
              "      <td>2.288644</td>\n",
              "      <td>1.359805</td>\n",
              "      <td>-1.064823</td>\n",
              "      <td>0.325574</td>\n",
              "      <td>-0.067794</td>\n",
              "      <td>-0.270953</td>\n",
              "      <td>-0.838587</td>\n",
              "      <td>-0.414575</td>\n",
              "      <td>-0.503141</td>\n",
              "      <td>0.676502</td>\n",
              "      <td>-1.692029</td>\n",
              "      <td>2.000635</td>\n",
              "      <td>0.666780</td>\n",
              "      <td>0.599717</td>\n",
              "      <td>1.725321</td>\n",
              "      <td>0.283345</td>\n",
              "      <td>2.102339</td>\n",
              "      <td>0.661696</td>\n",
              "      <td>0.435477</td>\n",
              "      <td>1.375966</td>\n",
              "      <td>-0.293803</td>\n",
              "      <td>0.279798</td>\n",
              "      <td>-0.145362</td>\n",
              "      <td>-0.252773</td>\n",
              "      <td>0.035764</td>\n",
              "      <td>529.00</td>\n",
              "      <td>1</td>\n",
              "    </tr>\n",
              "    <tr>\n",
              "      <th>2</th>\n",
              "      <td>4462.0</td>\n",
              "      <td>-2.303350</td>\n",
              "      <td>1.759247</td>\n",
              "      <td>-0.359745</td>\n",
              "      <td>2.330243</td>\n",
              "      <td>-0.821628</td>\n",
              "      <td>-0.075788</td>\n",
              "      <td>0.562320</td>\n",
              "      <td>-0.399147</td>\n",
              "      <td>-0.238253</td>\n",
              "      <td>-1.525412</td>\n",
              "      <td>2.032912</td>\n",
              "      <td>-6.560124</td>\n",
              "      <td>0.022937</td>\n",
              "      <td>-1.470102</td>\n",
              "      <td>-0.698826</td>\n",
              "      <td>-2.282194</td>\n",
              "      <td>-4.781831</td>\n",
              "      <td>-2.615665</td>\n",
              "      <td>-1.334441</td>\n",
              "      <td>-0.430022</td>\n",
              "      <td>-0.294166</td>\n",
              "      <td>-0.932391</td>\n",
              "      <td>0.172726</td>\n",
              "      <td>-0.087330</td>\n",
              "      <td>-0.156114</td>\n",
              "      <td>-0.542628</td>\n",
              "      <td>0.039566</td>\n",
              "      <td>-0.153029</td>\n",
              "      <td>239.93</td>\n",
              "      <td>1</td>\n",
              "    </tr>\n",
              "    <tr>\n",
              "      <th>3</th>\n",
              "      <td>6986.0</td>\n",
              "      <td>-4.397974</td>\n",
              "      <td>1.358367</td>\n",
              "      <td>-2.592844</td>\n",
              "      <td>2.679787</td>\n",
              "      <td>-1.128131</td>\n",
              "      <td>-1.706536</td>\n",
              "      <td>-3.496197</td>\n",
              "      <td>-0.248778</td>\n",
              "      <td>-0.247768</td>\n",
              "      <td>-4.801637</td>\n",
              "      <td>4.895844</td>\n",
              "      <td>-10.912819</td>\n",
              "      <td>0.184372</td>\n",
              "      <td>-6.771097</td>\n",
              "      <td>-0.007326</td>\n",
              "      <td>-7.358083</td>\n",
              "      <td>-12.598419</td>\n",
              "      <td>-5.131549</td>\n",
              "      <td>0.308334</td>\n",
              "      <td>-0.171608</td>\n",
              "      <td>0.573574</td>\n",
              "      <td>0.176968</td>\n",
              "      <td>-0.436207</td>\n",
              "      <td>-0.053502</td>\n",
              "      <td>0.252405</td>\n",
              "      <td>-0.657488</td>\n",
              "      <td>-0.827136</td>\n",
              "      <td>0.849573</td>\n",
              "      <td>59.00</td>\n",
              "      <td>1</td>\n",
              "    </tr>\n",
              "    <tr>\n",
              "      <th>4</th>\n",
              "      <td>7519.0</td>\n",
              "      <td>1.234235</td>\n",
              "      <td>3.019740</td>\n",
              "      <td>-4.304597</td>\n",
              "      <td>4.732795</td>\n",
              "      <td>3.624201</td>\n",
              "      <td>-1.357746</td>\n",
              "      <td>1.713445</td>\n",
              "      <td>-0.496358</td>\n",
              "      <td>-1.282858</td>\n",
              "      <td>-2.447469</td>\n",
              "      <td>2.101344</td>\n",
              "      <td>-4.609628</td>\n",
              "      <td>1.464378</td>\n",
              "      <td>-6.079337</td>\n",
              "      <td>-0.339237</td>\n",
              "      <td>2.581851</td>\n",
              "      <td>6.739384</td>\n",
              "      <td>3.042493</td>\n",
              "      <td>-2.721853</td>\n",
              "      <td>0.009061</td>\n",
              "      <td>-0.379068</td>\n",
              "      <td>-0.704181</td>\n",
              "      <td>-0.656805</td>\n",
              "      <td>-1.632653</td>\n",
              "      <td>1.488901</td>\n",
              "      <td>0.566797</td>\n",
              "      <td>-0.010016</td>\n",
              "      <td>0.146793</td>\n",
              "      <td>1.00</td>\n",
              "      <td>1</td>\n",
              "    </tr>\n",
              "  </tbody>\n",
              "</table>\n",
              "</div>"
            ],
            "text/plain": [
              "     Time        V1        V2        V3  ...       V27       V28  Amount  Class\n",
              "0   406.0 -2.312227  1.951992 -1.609851  ...  0.261145 -0.143276    0.00      1\n",
              "1   472.0 -3.043541 -3.157307  1.088463  ... -0.252773  0.035764  529.00      1\n",
              "2  4462.0 -2.303350  1.759247 -0.359745  ...  0.039566 -0.153029  239.93      1\n",
              "3  6986.0 -4.397974  1.358367 -2.592844  ... -0.827136  0.849573   59.00      1\n",
              "4  7519.0  1.234235  3.019740 -4.304597  ... -0.010016  0.146793    1.00      1\n",
              "\n",
              "[5 rows x 31 columns]"
            ]
          },
          "metadata": {
            "tags": []
          },
          "execution_count": 97
        }
      ]
    },
    {
      "cell_type": "code",
      "metadata": {
        "colab": {
          "base_uri": "https://localhost:8080/"
        },
        "id": "oBzwx2Kf3h0I",
        "outputId": "6cd1813c-bcc0-4a09-b311-7af72bcec6f5"
      },
      "source": [
        "data['Class'].value_counts()"
      ],
      "execution_count": null,
      "outputs": [
        {
          "output_type": "execute_result",
          "data": {
            "text/plain": [
              "1    492\n",
              "0    492\n",
              "Name: Class, dtype: int64"
            ]
          },
          "metadata": {
            "tags": []
          },
          "execution_count": 98
        }
      ]
    },
    {
      "cell_type": "code",
      "metadata": {
        "id": "-zAIiHBQ4HAa"
      },
      "source": [
        "X = data.drop('Class', axis = 1)\n",
        "y = data['Class']"
      ],
      "execution_count": null,
      "outputs": []
    },
    {
      "cell_type": "code",
      "metadata": {
        "id": "2jyJ62nA4KAw"
      },
      "source": [
        "X_train, X_test, y_train, y_test = train_test_split(X, y, test_size = 0.2, random_state = 0, stratify = y)"
      ],
      "execution_count": null,
      "outputs": []
    },
    {
      "cell_type": "code",
      "metadata": {
        "colab": {
          "base_uri": "https://localhost:8080/",
          "height": 444
        },
        "id": "SJdSNXsT4SQf",
        "outputId": "15bf6239-c7ac-4bc3-aed4-9ab1907c00cd"
      },
      "source": [
        "X_train.shape, X_test.shape\n",
        "X_test"
      ],
      "execution_count": null,
      "outputs": [
        {
          "output_type": "execute_result",
          "data": {
            "text/html": [
              "<div>\n",
              "<style scoped>\n",
              "    .dataframe tbody tr th:only-of-type {\n",
              "        vertical-align: middle;\n",
              "    }\n",
              "\n",
              "    .dataframe tbody tr th {\n",
              "        vertical-align: top;\n",
              "    }\n",
              "\n",
              "    .dataframe thead th {\n",
              "        text-align: right;\n",
              "    }\n",
              "</style>\n",
              "<table border=\"1\" class=\"dataframe\">\n",
              "  <thead>\n",
              "    <tr style=\"text-align: right;\">\n",
              "      <th></th>\n",
              "      <th>Time</th>\n",
              "      <th>V1</th>\n",
              "      <th>V2</th>\n",
              "      <th>V3</th>\n",
              "      <th>V4</th>\n",
              "      <th>V5</th>\n",
              "      <th>V6</th>\n",
              "      <th>V7</th>\n",
              "      <th>V8</th>\n",
              "      <th>V9</th>\n",
              "      <th>V10</th>\n",
              "      <th>V11</th>\n",
              "      <th>V12</th>\n",
              "      <th>V13</th>\n",
              "      <th>V14</th>\n",
              "      <th>V15</th>\n",
              "      <th>V16</th>\n",
              "      <th>V17</th>\n",
              "      <th>V18</th>\n",
              "      <th>V19</th>\n",
              "      <th>V20</th>\n",
              "      <th>V21</th>\n",
              "      <th>V22</th>\n",
              "      <th>V23</th>\n",
              "      <th>V24</th>\n",
              "      <th>V25</th>\n",
              "      <th>V26</th>\n",
              "      <th>V27</th>\n",
              "      <th>V28</th>\n",
              "      <th>Amount</th>\n",
              "    </tr>\n",
              "  </thead>\n",
              "  <tbody>\n",
              "    <tr>\n",
              "      <th>655</th>\n",
              "      <td>2125.0</td>\n",
              "      <td>1.321548</td>\n",
              "      <td>-0.580161</td>\n",
              "      <td>-0.235185</td>\n",
              "      <td>-0.899517</td>\n",
              "      <td>-0.478009</td>\n",
              "      <td>-0.576779</td>\n",
              "      <td>-0.216077</td>\n",
              "      <td>-0.127581</td>\n",
              "      <td>-1.221561</td>\n",
              "      <td>0.789991</td>\n",
              "      <td>0.862317</td>\n",
              "      <td>-0.300237</td>\n",
              "      <td>-0.312016</td>\n",
              "      <td>0.327319</td>\n",
              "      <td>-0.077167</td>\n",
              "      <td>1.360292</td>\n",
              "      <td>-0.106110</td>\n",
              "      <td>-1.127945</td>\n",
              "      <td>1.329708</td>\n",
              "      <td>0.186766</td>\n",
              "      <td>-0.167523</td>\n",
              "      <td>-0.811312</td>\n",
              "      <td>-0.014009</td>\n",
              "      <td>-0.385945</td>\n",
              "      <td>0.371321</td>\n",
              "      <td>-0.509596</td>\n",
              "      <td>-0.035247</td>\n",
              "      <td>0.006425</td>\n",
              "      <td>71.00</td>\n",
              "    </tr>\n",
              "    <tr>\n",
              "      <th>233</th>\n",
              "      <td>70071.0</td>\n",
              "      <td>-0.440095</td>\n",
              "      <td>1.137239</td>\n",
              "      <td>-3.227080</td>\n",
              "      <td>3.242293</td>\n",
              "      <td>-2.033998</td>\n",
              "      <td>-1.618415</td>\n",
              "      <td>-3.028013</td>\n",
              "      <td>0.764555</td>\n",
              "      <td>-1.801937</td>\n",
              "      <td>-4.711769</td>\n",
              "      <td>4.663255</td>\n",
              "      <td>-5.171735</td>\n",
              "      <td>-1.624070</td>\n",
              "      <td>-6.713878</td>\n",
              "      <td>0.607986</td>\n",
              "      <td>-3.275207</td>\n",
              "      <td>-6.823831</td>\n",
              "      <td>-1.355309</td>\n",
              "      <td>0.291251</td>\n",
              "      <td>0.895841</td>\n",
              "      <td>0.764187</td>\n",
              "      <td>-0.275578</td>\n",
              "      <td>-0.343572</td>\n",
              "      <td>0.233085</td>\n",
              "      <td>0.606434</td>\n",
              "      <td>-0.315433</td>\n",
              "      <td>0.768291</td>\n",
              "      <td>0.459623</td>\n",
              "      <td>227.30</td>\n",
              "    </tr>\n",
              "    <tr>\n",
              "      <th>114</th>\n",
              "      <td>41164.0</td>\n",
              "      <td>-5.932778</td>\n",
              "      <td>4.571743</td>\n",
              "      <td>-9.427247</td>\n",
              "      <td>6.577056</td>\n",
              "      <td>-6.115218</td>\n",
              "      <td>-3.661798</td>\n",
              "      <td>-10.894079</td>\n",
              "      <td>3.709210</td>\n",
              "      <td>-5.859524</td>\n",
              "      <td>-12.981619</td>\n",
              "      <td>8.265295</td>\n",
              "      <td>-14.154165</td>\n",
              "      <td>0.479843</td>\n",
              "      <td>-16.337596</td>\n",
              "      <td>1.646045</td>\n",
              "      <td>-12.375397</td>\n",
              "      <td>-21.090613</td>\n",
              "      <td>-7.724546</td>\n",
              "      <td>3.856375</td>\n",
              "      <td>1.191078</td>\n",
              "      <td>2.014272</td>\n",
              "      <td>-0.167417</td>\n",
              "      <td>0.049968</td>\n",
              "      <td>0.384430</td>\n",
              "      <td>-0.077884</td>\n",
              "      <td>0.565493</td>\n",
              "      <td>1.792012</td>\n",
              "      <td>0.371007</td>\n",
              "      <td>5.30</td>\n",
              "    </tr>\n",
              "    <tr>\n",
              "      <th>309</th>\n",
              "      <td>93879.0</td>\n",
              "      <td>-12.833631</td>\n",
              "      <td>7.508790</td>\n",
              "      <td>-20.491952</td>\n",
              "      <td>7.465780</td>\n",
              "      <td>-11.575304</td>\n",
              "      <td>-5.140999</td>\n",
              "      <td>-14.020564</td>\n",
              "      <td>8.332120</td>\n",
              "      <td>-4.337713</td>\n",
              "      <td>-15.563791</td>\n",
              "      <td>7.610820</td>\n",
              "      <td>-15.592323</td>\n",
              "      <td>0.504789</td>\n",
              "      <td>-13.247889</td>\n",
              "      <td>-0.796526</td>\n",
              "      <td>-10.342328</td>\n",
              "      <td>-16.044524</td>\n",
              "      <td>-5.882136</td>\n",
              "      <td>1.573698</td>\n",
              "      <td>-1.378923</td>\n",
              "      <td>2.966842</td>\n",
              "      <td>0.615344</td>\n",
              "      <td>-0.766495</td>\n",
              "      <td>0.431261</td>\n",
              "      <td>-0.104975</td>\n",
              "      <td>-0.010091</td>\n",
              "      <td>-2.400811</td>\n",
              "      <td>-0.720557</td>\n",
              "      <td>104.03</td>\n",
              "    </tr>\n",
              "    <tr>\n",
              "      <th>282</th>\n",
              "      <td>87883.0</td>\n",
              "      <td>-1.360293</td>\n",
              "      <td>-0.458069</td>\n",
              "      <td>-0.700404</td>\n",
              "      <td>2.737229</td>\n",
              "      <td>-1.005106</td>\n",
              "      <td>2.891399</td>\n",
              "      <td>5.802537</td>\n",
              "      <td>-1.933197</td>\n",
              "      <td>-1.017717</td>\n",
              "      <td>1.987862</td>\n",
              "      <td>0.504116</td>\n",
              "      <td>-0.863431</td>\n",
              "      <td>-0.184450</td>\n",
              "      <td>-1.016916</td>\n",
              "      <td>-1.559410</td>\n",
              "      <td>1.154313</td>\n",
              "      <td>-2.043858</td>\n",
              "      <td>-0.151699</td>\n",
              "      <td>-0.943514</td>\n",
              "      <td>-1.493401</td>\n",
              "      <td>-0.936990</td>\n",
              "      <td>-0.053812</td>\n",
              "      <td>0.580106</td>\n",
              "      <td>0.216927</td>\n",
              "      <td>0.151643</td>\n",
              "      <td>-0.332115</td>\n",
              "      <td>-0.469800</td>\n",
              "      <td>-1.495006</td>\n",
              "      <td>829.41</td>\n",
              "    </tr>\n",
              "    <tr>\n",
              "      <th>...</th>\n",
              "      <td>...</td>\n",
              "      <td>...</td>\n",
              "      <td>...</td>\n",
              "      <td>...</td>\n",
              "      <td>...</td>\n",
              "      <td>...</td>\n",
              "      <td>...</td>\n",
              "      <td>...</td>\n",
              "      <td>...</td>\n",
              "      <td>...</td>\n",
              "      <td>...</td>\n",
              "      <td>...</td>\n",
              "      <td>...</td>\n",
              "      <td>...</td>\n",
              "      <td>...</td>\n",
              "      <td>...</td>\n",
              "      <td>...</td>\n",
              "      <td>...</td>\n",
              "      <td>...</td>\n",
              "      <td>...</td>\n",
              "      <td>...</td>\n",
              "      <td>...</td>\n",
              "      <td>...</td>\n",
              "      <td>...</td>\n",
              "      <td>...</td>\n",
              "      <td>...</td>\n",
              "      <td>...</td>\n",
              "      <td>...</td>\n",
              "      <td>...</td>\n",
              "      <td>...</td>\n",
              "    </tr>\n",
              "    <tr>\n",
              "      <th>955</th>\n",
              "      <td>29808.0</td>\n",
              "      <td>1.029375</td>\n",
              "      <td>-0.450627</td>\n",
              "      <td>1.135592</td>\n",
              "      <td>0.867918</td>\n",
              "      <td>-1.037291</td>\n",
              "      <td>0.166515</td>\n",
              "      <td>-0.687681</td>\n",
              "      <td>0.247090</td>\n",
              "      <td>1.052954</td>\n",
              "      <td>-0.284696</td>\n",
              "      <td>-0.659646</td>\n",
              "      <td>0.062712</td>\n",
              "      <td>-0.840654</td>\n",
              "      <td>-0.191834</td>\n",
              "      <td>0.554878</td>\n",
              "      <td>-0.081136</td>\n",
              "      <td>0.155675</td>\n",
              "      <td>-0.565856</td>\n",
              "      <td>-0.410826</td>\n",
              "      <td>-0.074135</td>\n",
              "      <td>-0.040251</td>\n",
              "      <td>-0.057134</td>\n",
              "      <td>0.022245</td>\n",
              "      <td>0.101556</td>\n",
              "      <td>0.131458</td>\n",
              "      <td>0.343047</td>\n",
              "      <td>0.017053</td>\n",
              "      <td>0.031807</td>\n",
              "      <td>64.99</td>\n",
              "    </tr>\n",
              "    <tr>\n",
              "      <th>924</th>\n",
              "      <td>80448.0</td>\n",
              "      <td>-0.750413</td>\n",
              "      <td>0.300228</td>\n",
              "      <td>1.480662</td>\n",
              "      <td>0.095409</td>\n",
              "      <td>1.558601</td>\n",
              "      <td>1.471404</td>\n",
              "      <td>0.121795</td>\n",
              "      <td>0.494270</td>\n",
              "      <td>-0.694961</td>\n",
              "      <td>-0.347153</td>\n",
              "      <td>2.176541</td>\n",
              "      <td>0.465967</td>\n",
              "      <td>-0.461000</td>\n",
              "      <td>-0.116574</td>\n",
              "      <td>1.776783</td>\n",
              "      <td>-0.939654</td>\n",
              "      <td>1.036135</td>\n",
              "      <td>-1.323827</td>\n",
              "      <td>-0.473821</td>\n",
              "      <td>0.108764</td>\n",
              "      <td>-0.069276</td>\n",
              "      <td>-0.072074</td>\n",
              "      <td>0.059721</td>\n",
              "      <td>-1.400788</td>\n",
              "      <td>-0.666904</td>\n",
              "      <td>0.264302</td>\n",
              "      <td>-0.028947</td>\n",
              "      <td>-0.115087</td>\n",
              "      <td>1.98</td>\n",
              "    </tr>\n",
              "    <tr>\n",
              "      <th>825</th>\n",
              "      <td>138541.0</td>\n",
              "      <td>-0.629801</td>\n",
              "      <td>-0.132544</td>\n",
              "      <td>1.815136</td>\n",
              "      <td>-2.753719</td>\n",
              "      <td>0.440168</td>\n",
              "      <td>0.623031</td>\n",
              "      <td>0.177221</td>\n",
              "      <td>0.051643</td>\n",
              "      <td>-1.211088</td>\n",
              "      <td>-0.097009</td>\n",
              "      <td>0.387170</td>\n",
              "      <td>-0.187587</td>\n",
              "      <td>0.921002</td>\n",
              "      <td>-0.781773</td>\n",
              "      <td>-0.625521</td>\n",
              "      <td>1.884229</td>\n",
              "      <td>-0.876750</td>\n",
              "      <td>-0.634872</td>\n",
              "      <td>0.439683</td>\n",
              "      <td>0.316787</td>\n",
              "      <td>0.032549</td>\n",
              "      <td>-0.004854</td>\n",
              "      <td>-0.323716</td>\n",
              "      <td>-0.122414</td>\n",
              "      <td>0.462699</td>\n",
              "      <td>-0.420717</td>\n",
              "      <td>-0.153085</td>\n",
              "      <td>-0.172457</td>\n",
              "      <td>33.60</td>\n",
              "    </tr>\n",
              "    <tr>\n",
              "      <th>397</th>\n",
              "      <td>139117.0</td>\n",
              "      <td>-3.975939</td>\n",
              "      <td>-1.244939</td>\n",
              "      <td>-3.707414</td>\n",
              "      <td>4.544772</td>\n",
              "      <td>4.050676</td>\n",
              "      <td>-3.407679</td>\n",
              "      <td>-5.063118</td>\n",
              "      <td>1.007042</td>\n",
              "      <td>-3.190158</td>\n",
              "      <td>-4.250717</td>\n",
              "      <td>4.182162</td>\n",
              "      <td>-4.563675</td>\n",
              "      <td>1.182503</td>\n",
              "      <td>-6.964972</td>\n",
              "      <td>1.115340</td>\n",
              "      <td>-4.997332</td>\n",
              "      <td>-6.419539</td>\n",
              "      <td>-1.183593</td>\n",
              "      <td>3.569733</td>\n",
              "      <td>2.109403</td>\n",
              "      <td>1.059737</td>\n",
              "      <td>-0.037395</td>\n",
              "      <td>0.348707</td>\n",
              "      <td>-0.162929</td>\n",
              "      <td>0.410531</td>\n",
              "      <td>-0.123612</td>\n",
              "      <td>0.877424</td>\n",
              "      <td>0.667568</td>\n",
              "      <td>8.30</td>\n",
              "    </tr>\n",
              "    <tr>\n",
              "      <th>453</th>\n",
              "      <td>154278.0</td>\n",
              "      <td>-1.600211</td>\n",
              "      <td>-3.488130</td>\n",
              "      <td>-6.459303</td>\n",
              "      <td>3.246816</td>\n",
              "      <td>-1.614608</td>\n",
              "      <td>-1.260375</td>\n",
              "      <td>0.288223</td>\n",
              "      <td>-0.048964</td>\n",
              "      <td>-0.734975</td>\n",
              "      <td>-4.441484</td>\n",
              "      <td>2.944375</td>\n",
              "      <td>-3.805469</td>\n",
              "      <td>-2.102227</td>\n",
              "      <td>-6.106183</td>\n",
              "      <td>-0.641736</td>\n",
              "      <td>-1.555963</td>\n",
              "      <td>-2.084067</td>\n",
              "      <td>0.394247</td>\n",
              "      <td>0.083380</td>\n",
              "      <td>3.189355</td>\n",
              "      <td>1.191175</td>\n",
              "      <td>-0.967141</td>\n",
              "      <td>-1.463421</td>\n",
              "      <td>-0.624231</td>\n",
              "      <td>-0.176462</td>\n",
              "      <td>0.400348</td>\n",
              "      <td>0.152947</td>\n",
              "      <td>0.477775</td>\n",
              "      <td>1504.93</td>\n",
              "    </tr>\n",
              "  </tbody>\n",
              "</table>\n",
              "<p>197 rows × 30 columns</p>\n",
              "</div>"
            ],
            "text/plain": [
              "         Time         V1        V2  ...       V27       V28   Amount\n",
              "655    2125.0   1.321548 -0.580161  ... -0.035247  0.006425    71.00\n",
              "233   70071.0  -0.440095  1.137239  ...  0.768291  0.459623   227.30\n",
              "114   41164.0  -5.932778  4.571743  ...  1.792012  0.371007     5.30\n",
              "309   93879.0 -12.833631  7.508790  ... -2.400811 -0.720557   104.03\n",
              "282   87883.0  -1.360293 -0.458069  ... -0.469800 -1.495006   829.41\n",
              "..        ...        ...       ...  ...       ...       ...      ...\n",
              "955   29808.0   1.029375 -0.450627  ...  0.017053  0.031807    64.99\n",
              "924   80448.0  -0.750413  0.300228  ... -0.028947 -0.115087     1.98\n",
              "825  138541.0  -0.629801 -0.132544  ... -0.153085 -0.172457    33.60\n",
              "397  139117.0  -3.975939 -1.244939  ...  0.877424  0.667568     8.30\n",
              "453  154278.0  -1.600211 -3.488130  ...  0.152947  0.477775  1504.93\n",
              "\n",
              "[197 rows x 30 columns]"
            ]
          },
          "metadata": {
            "tags": []
          },
          "execution_count": 101
        }
      ]
    },
    {
      "cell_type": "code",
      "metadata": {
        "colab": {
          "base_uri": "https://localhost:8080/"
        },
        "id": "bsISzixp4X3z",
        "outputId": "a8fba371-eee6-4130-f1d7-987eca7e8a7c"
      },
      "source": [
        "scaler = StandardScaler()\n",
        "X_train = scaler.fit_transform(X_train)\n",
        "X_test = scaler.transform(X_test)\n",
        "\n",
        "y_train = y_train.to_numpy()\n",
        "y_test = y_test.to_numpy()\n",
        "\n",
        "X_train.shape\n",
        "y_train.shape"
      ],
      "execution_count": null,
      "outputs": [
        {
          "output_type": "execute_result",
          "data": {
            "text/plain": [
              "(787,)"
            ]
          },
          "metadata": {
            "tags": []
          },
          "execution_count": 102
        }
      ]
    },
    {
      "cell_type": "code",
      "metadata": {
        "colab": {
          "base_uri": "https://localhost:8080/"
        },
        "id": "HoaosYtT4d-H",
        "outputId": "907565b7-2ead-478a-a63d-66cc51d3c067"
      },
      "source": [
        "X_train = X_train.reshape(X_train.shape[0], X_train.shape[1], 1)\n",
        "X_test = X_test.reshape(X_test.shape[0], X_test.shape[1], 1)\n",
        "\n",
        "X_train.shape, X_test.shape\n"
      ],
      "execution_count": null,
      "outputs": [
        {
          "output_type": "execute_result",
          "data": {
            "text/plain": [
              "((787, 30, 1), (197, 30, 1))"
            ]
          },
          "metadata": {
            "tags": []
          },
          "execution_count": 103
        }
      ]
    },
    {
      "cell_type": "code",
      "metadata": {
        "colab": {
          "base_uri": "https://localhost:8080/"
        },
        "id": "xNBxC6C0-Gl9",
        "outputId": "d1308e27-937f-40dd-daca-41417168e0e8"
      },
      "source": [
        "epochs = 50\n",
        "model = Sequential()\n",
        "model.add(Conv1D(32, 2, activation='relu', input_shape = X_train[0].shape))\n",
        "model.add(BatchNormalization())\n",
        "model.add(MaxPool1D(2))\n",
        "model.add(Dropout(0.2))\n",
        "\n",
        "model.add(Conv1D(64, 2, activation='relu'))\n",
        "model.add(BatchNormalization())\n",
        "model.add(MaxPool1D(2))\n",
        "model.add(Dropout(0.5))\n",
        "\n",
        "model.add(Flatten())\n",
        "model.add(Dense(64, activation='relu'))\n",
        "model.add(Dropout(0.5))\n",
        "\n",
        "model.add(Dense(1, activation='sigmoid'))\n",
        "\n",
        "model.compile(optimizer=Adam(lr=0.0001), \n",
        "              loss = 'binary_crossentropy', \n",
        "              metrics=['accuracy'])\n",
        "\n",
        "history = model.fit(X_train, y_train, \n",
        "                    epochs=epochs, \n",
        "                    validation_data=(X_test, y_test), \n",
        "                    verbose=1)"
      ],
      "execution_count": null,
      "outputs": [
        {
          "output_type": "stream",
          "text": [
            "/usr/local/lib/python3.7/dist-packages/tensorflow/python/keras/optimizer_v2/optimizer_v2.py:375: UserWarning: The `lr` argument is deprecated, use `learning_rate` instead.\n",
            "  \"The `lr` argument is deprecated, use `learning_rate` instead.\")\n"
          ],
          "name": "stderr"
        },
        {
          "output_type": "stream",
          "text": [
            "Epoch 1/50\n",
            "25/25 [==============================] - 1s 13ms/step - loss: 1.0190 - accuracy: 0.5502 - val_loss: 0.6371 - val_accuracy: 0.7208\n",
            "Epoch 2/50\n",
            "25/25 [==============================] - 0s 7ms/step - loss: 0.9179 - accuracy: 0.6213 - val_loss: 0.6143 - val_accuracy: 0.7157\n",
            "Epoch 3/50\n",
            "25/25 [==============================] - 0s 6ms/step - loss: 0.7281 - accuracy: 0.6925 - val_loss: 0.6019 - val_accuracy: 0.6853\n",
            "Epoch 4/50\n",
            "25/25 [==============================] - 0s 6ms/step - loss: 0.6357 - accuracy: 0.7166 - val_loss: 0.5908 - val_accuracy: 0.6650\n",
            "Epoch 5/50\n",
            "25/25 [==============================] - 0s 6ms/step - loss: 0.6489 - accuracy: 0.7306 - val_loss: 0.5777 - val_accuracy: 0.6701\n",
            "Epoch 6/50\n",
            "25/25 [==============================] - 0s 6ms/step - loss: 0.5712 - accuracy: 0.7726 - val_loss: 0.5620 - val_accuracy: 0.6802\n",
            "Epoch 7/50\n",
            "25/25 [==============================] - 0s 6ms/step - loss: 0.4820 - accuracy: 0.7929 - val_loss: 0.5426 - val_accuracy: 0.6954\n",
            "Epoch 8/50\n",
            "25/25 [==============================] - 0s 6ms/step - loss: 0.4492 - accuracy: 0.8310 - val_loss: 0.5215 - val_accuracy: 0.7005\n",
            "Epoch 9/50\n",
            "25/25 [==============================] - 0s 6ms/step - loss: 0.4934 - accuracy: 0.7954 - val_loss: 0.4967 - val_accuracy: 0.7208\n",
            "Epoch 10/50\n",
            "25/25 [==============================] - 0s 6ms/step - loss: 0.4411 - accuracy: 0.8132 - val_loss: 0.4698 - val_accuracy: 0.7411\n",
            "Epoch 11/50\n",
            "25/25 [==============================] - 0s 6ms/step - loss: 0.4115 - accuracy: 0.8323 - val_loss: 0.4414 - val_accuracy: 0.7919\n",
            "Epoch 12/50\n",
            "25/25 [==============================] - 0s 6ms/step - loss: 0.3891 - accuracy: 0.8412 - val_loss: 0.4163 - val_accuracy: 0.8325\n",
            "Epoch 13/50\n",
            "25/25 [==============================] - 0s 6ms/step - loss: 0.4144 - accuracy: 0.8272 - val_loss: 0.3959 - val_accuracy: 0.8426\n",
            "Epoch 14/50\n",
            "25/25 [==============================] - 0s 7ms/step - loss: 0.3934 - accuracy: 0.8628 - val_loss: 0.3781 - val_accuracy: 0.8528\n",
            "Epoch 15/50\n",
            "25/25 [==============================] - 0s 6ms/step - loss: 0.3440 - accuracy: 0.8653 - val_loss: 0.3624 - val_accuracy: 0.8579\n",
            "Epoch 16/50\n",
            "25/25 [==============================] - 0s 6ms/step - loss: 0.3706 - accuracy: 0.8615 - val_loss: 0.3485 - val_accuracy: 0.8629\n",
            "Epoch 17/50\n",
            "25/25 [==============================] - 0s 6ms/step - loss: 0.3496 - accuracy: 0.8767 - val_loss: 0.3366 - val_accuracy: 0.8680\n",
            "Epoch 18/50\n",
            "25/25 [==============================] - 0s 6ms/step - loss: 0.3751 - accuracy: 0.8488 - val_loss: 0.3263 - val_accuracy: 0.8680\n",
            "Epoch 19/50\n",
            "25/25 [==============================] - 0s 7ms/step - loss: 0.3205 - accuracy: 0.8920 - val_loss: 0.3193 - val_accuracy: 0.8731\n",
            "Epoch 20/50\n",
            "25/25 [==============================] - 0s 6ms/step - loss: 0.3399 - accuracy: 0.8882 - val_loss: 0.3108 - val_accuracy: 0.8782\n",
            "Epoch 21/50\n",
            "25/25 [==============================] - 0s 7ms/step - loss: 0.3476 - accuracy: 0.8818 - val_loss: 0.3050 - val_accuracy: 0.8782\n",
            "Epoch 22/50\n",
            "25/25 [==============================] - 0s 6ms/step - loss: 0.3292 - accuracy: 0.8831 - val_loss: 0.2976 - val_accuracy: 0.8731\n",
            "Epoch 23/50\n",
            "25/25 [==============================] - 0s 6ms/step - loss: 0.3005 - accuracy: 0.8958 - val_loss: 0.2915 - val_accuracy: 0.8782\n",
            "Epoch 24/50\n",
            "25/25 [==============================] - 0s 6ms/step - loss: 0.3382 - accuracy: 0.8780 - val_loss: 0.2866 - val_accuracy: 0.8832\n",
            "Epoch 25/50\n",
            "25/25 [==============================] - 0s 6ms/step - loss: 0.2907 - accuracy: 0.8958 - val_loss: 0.2840 - val_accuracy: 0.8883\n",
            "Epoch 26/50\n",
            "25/25 [==============================] - 0s 6ms/step - loss: 0.3265 - accuracy: 0.8767 - val_loss: 0.2814 - val_accuracy: 0.8934\n",
            "Epoch 27/50\n",
            "25/25 [==============================] - 0s 6ms/step - loss: 0.3053 - accuracy: 0.8844 - val_loss: 0.2786 - val_accuracy: 0.8934\n",
            "Epoch 28/50\n",
            "25/25 [==============================] - 0s 6ms/step - loss: 0.2685 - accuracy: 0.9047 - val_loss: 0.2777 - val_accuracy: 0.8934\n",
            "Epoch 29/50\n",
            "25/25 [==============================] - 0s 6ms/step - loss: 0.2968 - accuracy: 0.8818 - val_loss: 0.2742 - val_accuracy: 0.8934\n",
            "Epoch 30/50\n",
            "25/25 [==============================] - 0s 6ms/step - loss: 0.2773 - accuracy: 0.8958 - val_loss: 0.2716 - val_accuracy: 0.8934\n",
            "Epoch 31/50\n",
            "25/25 [==============================] - 0s 6ms/step - loss: 0.2534 - accuracy: 0.9072 - val_loss: 0.2714 - val_accuracy: 0.8934\n",
            "Epoch 32/50\n",
            "25/25 [==============================] - 0s 6ms/step - loss: 0.2681 - accuracy: 0.8933 - val_loss: 0.2676 - val_accuracy: 0.8934\n",
            "Epoch 33/50\n",
            "25/25 [==============================] - 0s 6ms/step - loss: 0.3075 - accuracy: 0.8907 - val_loss: 0.2671 - val_accuracy: 0.8934\n",
            "Epoch 34/50\n",
            "25/25 [==============================] - 0s 6ms/step - loss: 0.2504 - accuracy: 0.9149 - val_loss: 0.2646 - val_accuracy: 0.8934\n",
            "Epoch 35/50\n",
            "25/25 [==============================] - 0s 6ms/step - loss: 0.2859 - accuracy: 0.8920 - val_loss: 0.2648 - val_accuracy: 0.8934\n",
            "Epoch 36/50\n",
            "25/25 [==============================] - 0s 6ms/step - loss: 0.2647 - accuracy: 0.8983 - val_loss: 0.2634 - val_accuracy: 0.8985\n",
            "Epoch 37/50\n",
            "25/25 [==============================] - 0s 6ms/step - loss: 0.2391 - accuracy: 0.9085 - val_loss: 0.2637 - val_accuracy: 0.8985\n",
            "Epoch 38/50\n",
            "25/25 [==============================] - 0s 6ms/step - loss: 0.2783 - accuracy: 0.8920 - val_loss: 0.2632 - val_accuracy: 0.8985\n",
            "Epoch 39/50\n",
            "25/25 [==============================] - 0s 6ms/step - loss: 0.2451 - accuracy: 0.9187 - val_loss: 0.2603 - val_accuracy: 0.9036\n",
            "Epoch 40/50\n",
            "25/25 [==============================] - 0s 6ms/step - loss: 0.2417 - accuracy: 0.9123 - val_loss: 0.2595 - val_accuracy: 0.9036\n",
            "Epoch 41/50\n",
            "25/25 [==============================] - 0s 6ms/step - loss: 0.2663 - accuracy: 0.9085 - val_loss: 0.2585 - val_accuracy: 0.9036\n",
            "Epoch 42/50\n",
            "25/25 [==============================] - 0s 6ms/step - loss: 0.2420 - accuracy: 0.9250 - val_loss: 0.2565 - val_accuracy: 0.9036\n",
            "Epoch 43/50\n",
            "25/25 [==============================] - 0s 6ms/step - loss: 0.2348 - accuracy: 0.9111 - val_loss: 0.2551 - val_accuracy: 0.9086\n",
            "Epoch 44/50\n",
            "25/25 [==============================] - 0s 6ms/step - loss: 0.2335 - accuracy: 0.9047 - val_loss: 0.2542 - val_accuracy: 0.9137\n",
            "Epoch 45/50\n",
            "25/25 [==============================] - 0s 6ms/step - loss: 0.2241 - accuracy: 0.9212 - val_loss: 0.2510 - val_accuracy: 0.9137\n",
            "Epoch 46/50\n",
            "25/25 [==============================] - 0s 6ms/step - loss: 0.2653 - accuracy: 0.9149 - val_loss: 0.2503 - val_accuracy: 0.9137\n",
            "Epoch 47/50\n",
            "25/25 [==============================] - 0s 6ms/step - loss: 0.2344 - accuracy: 0.9149 - val_loss: 0.2491 - val_accuracy: 0.9137\n",
            "Epoch 48/50\n",
            "25/25 [==============================] - 0s 7ms/step - loss: 0.2510 - accuracy: 0.8958 - val_loss: 0.2484 - val_accuracy: 0.9137\n",
            "Epoch 49/50\n",
            "25/25 [==============================] - 0s 6ms/step - loss: 0.2428 - accuracy: 0.9174 - val_loss: 0.2448 - val_accuracy: 0.9137\n",
            "Epoch 50/50\n",
            "25/25 [==============================] - 0s 6ms/step - loss: 0.2307 - accuracy: 0.9238 - val_loss: 0.2449 - val_accuracy: 0.9137\n"
          ],
          "name": "stdout"
        }
      ]
    },
    {
      "cell_type": "code",
      "metadata": {
        "id": "zYU1q0r9-J5C",
        "colab": {
          "base_uri": "https://localhost:8080/",
          "height": 167
        },
        "outputId": "f0b402e6-29c0-496e-b4a8-5d31bb89f41b"
      },
      "source": [
        "plot_learningCurve= (history, epochs)"
      ],
      "execution_count": null,
      "outputs": [
        {
          "output_type": "error",
          "ename": "NameError",
          "evalue": "ignored",
          "traceback": [
            "\u001b[0;31m---------------------------------------------------------------------------\u001b[0m",
            "\u001b[0;31mNameError\u001b[0m                                 Traceback (most recent call last)",
            "\u001b[0;32m<ipython-input-105-a795201c4e23>\u001b[0m in \u001b[0;36m<module>\u001b[0;34m()\u001b[0m\n\u001b[0;32m----> 1\u001b[0;31m \u001b[0mplot_learningCurve\u001b[0m\u001b[0;34m(\u001b[0m\u001b[0mhistory\u001b[0m\u001b[0;34m,\u001b[0m \u001b[0mepochs\u001b[0m\u001b[0;34m)\u001b[0m\u001b[0;34m\u001b[0m\u001b[0;34m\u001b[0m\u001b[0m\n\u001b[0m",
            "\u001b[0;31mNameError\u001b[0m: name 'plot_learningCurve' is not defined"
          ]
        }
      ]
    }
  ]
}